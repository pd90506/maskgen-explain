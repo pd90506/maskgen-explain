{
 "cells": [
  {
   "cell_type": "code",
   "execution_count": null,
   "metadata": {},
   "outputs": [],
   "source": [
    "from accelerate import Accelerator\n",
    "import json \n",
    "import os \n",
    "from typing import Dict, Any\n",
    "\n",
    "config = {\n",
    "        \"pretrained_name\": \"google/vit-base-patch16-224\",\n",
    "        \"results_path\": \".new_results/rise\",\n",
    "        \"csv_path\": \"./new_results/rise\",\n",
    "        \"max_samples\": 100,\n",
    "        \"dataset_split\": \"tiny\",\n",
    "        \"num_samples\": 1000,\n",
    "        \"batch_size\":1,\n",
    "        # \"auc_method\": \"prob\", # 'acc'\n",
    "        \"auc_method\": \"acc\", \n",
    "}\n",
    "\n",
    "accelerator = Accelerator()\n",
    "device = accelerator.device\n",
    "\n",
    "print('result_path', config['results_path'])\n",
    "print(\"csv_path\", config['csv_path'])"
   ]
  },
  {
   "cell_type": "code",
   "execution_count": 2,
   "metadata": {},
   "outputs": [],
   "source": [
    "from maskgen.utils.save_utils import load_pixel_heatmap_pairs\n",
    "npz_path = os.path.join(config['results_path'],'pixel_heatmap_pairs.npz')\n",
    "dataloader = load_pixel_heatmap_pairs(npz_path, batch_size=1, shuffle=False)"
   ]
  },
  {
   "cell_type": "code",
   "execution_count": null,
   "metadata": {},
   "outputs": [],
   "source": [
    "from maskgen.evaluation import EvalGame\n",
    "from maskgen.utils.model_utils import get_pred_model\n",
    "import numpy as np\n",
    "from tqdm.auto import tqdm\n",
    "\n",
    "processor, pred_model = get_pred_model(config['pretrained_name'], device)\n",
    "pred_model.eval() \n",
    "target_model = lambda x: pred_model(x).logits\n",
    "\n",
    "auc_method = config['auc_method']\n",
    "eval_game = EvalGame(target_model, auc_method=auc_method)\n",
    "\n",
    "\n",
    "del_score_list = []\n",
    "ins_score_list = []\n",
    "mean_del_score_list = []\n",
    "mean_ins_score_list = []\n",
    "cum_del_score = 0\n",
    "cum_ins_score = 0\n",
    "\n",
    "# Initialize progress bar\n",
    "pbar = tqdm(total=len(dataloader), desc='Evaluating')\n",
    "\n",
    "for idx, batch in enumerate(dataloader):\n",
    "    pixel_values = batch['pixel_values'].to(device)\n",
    "    heatmaps = batch['heatmap'].to(device)\n",
    "    del_score = eval_game.get_deletion_score(pixel_values, heatmaps)\n",
    "    ins_score = eval_game.get_insertion_score(pixel_values, heatmaps)\n",
    "    del_score_list.append(del_score)\n",
    "    ins_score_list.append(ins_score)\n",
    "    cum_del_score += del_score.item()\n",
    "    mean_del_score_list.append(cum_del_score/len(del_score_list))\n",
    "    mean_ins_score_list.append(cum_ins_score/len(ins_score_list))\n",
    "    cum_ins_score += ins_score.item()\n",
    "    \n",
    "    # Update progress bar with current metrics\n",
    "    current_del = cum_del_score / len(del_score_list)\n",
    "    current_ins = cum_ins_score / len(ins_score_list)\n",
    "    pbar.set_description(f'Del AUC: {current_del:.4f}, Ins AUC: {current_ins:.4f}')\n",
    "    pbar.update(1)\n",
    "\n",
    "pbar.close()\n",
    "\n",
    "# accept Del AUC: 0.3161, Ins AUC: 0.7301\n",
    "# reject Del AUC: 0.3385, Ins AUC: 0.6933"
   ]
  },
  {
   "cell_type": "code",
   "execution_count": null,
   "metadata": {},
   "outputs": [],
   "source": [
    "print(batch['pixel_values'].shape)\n",
    "print(batch['heatmap'].shape)"
   ]
  },
  {
   "cell_type": "code",
   "execution_count": null,
   "metadata": {},
   "outputs": [],
   "source": [
    "import pandas as pd\n",
    "\n",
    "result_dict = {'idx': range(len(del_score_list)), \n",
    "               'del_score': [x.item() for x in del_score_list], \n",
    "               'ins_score': [x.item() for x in ins_score_list],\n",
    "               'mean_del_score': mean_del_score_list,\n",
    "               'mean_ins_score': mean_ins_score_list}\n",
    "\n",
    "# Save results dict to pandas dataframe and save to csv\n",
    "result_df = pd.DataFrame(result_dict)\n",
    "if not os.path.exists(config['csv_path']):\n",
    "    os.makedirs(config['csv_path'])\n",
    "\n",
    "csv_save_path = os.path.join(config['csv_path'], f'{auc_method}_auc_eval_results.csv')\n",
    "result_df.to_csv(csv_save_path, float_format='%.4f', index=False)"
   ]
  },
  {
   "cell_type": "markdown",
   "metadata": {},
   "source": [
    "# Hard cases"
   ]
  },
  {
   "cell_type": "code",
   "execution_count": 6,
   "metadata": {},
   "outputs": [],
   "source": [
    "from maskgen.utils.save_utils import PixelHeatmapDataset\n",
    "\n",
    "# # override npz_path\n",
    "# npz_path = \"./new_results/maskgen_unitvalue_kl1\"\n",
    "# npz_path = os.path.join(npz_path,'pixel_heatmap_pairs.npz')\n",
    "dataset = PixelHeatmapDataset(npz_path)\n"
   ]
  },
  {
   "cell_type": "code",
   "execution_count": 13,
   "metadata": {},
   "outputs": [],
   "source": []
  },
  {
   "cell_type": "code",
   "execution_count": null,
   "metadata": {},
   "outputs": [],
   "source": [
    "from maskgen.utils.img_utils import plot_overlap_np\n",
    "import torch\n",
    "# 55, 45, 44, 43, 40, 22, 26， 75*， 24\n",
    "hard_sample = dataset[55]\n",
    "image = hard_sample['pixel_values']\n",
    "with torch.no_grad():\n",
    "    img = image.to(device).unsqueeze(0)\n",
    "    predicted_class_idx = pred_model(img).logits.argmax(-1).item()\n",
    "    secondary_class_idx = pred_model(img).logits.argsort(descending=True)[0][1].item()\n",
    "\n",
    "label = predicted_class_idx\n",
    "# label = secondary_class_idx\n",
    "label = torch.tensor([label]).to(device)\n",
    "\n",
    "print(\"Predicted class:\", pred_model.config.id2label[label.item()])\n",
    "\n",
    "\n",
    "heatmap = hard_sample['heatmap']\n",
    "\n",
    "image = image.squeeze(0).detach().cpu().numpy().transpose(1, 2, 0)\n",
    "heatmap = heatmap.squeeze(0).detach().cpu().numpy()\n",
    "\n",
    "_, _ = plot_overlap_np(image, heatmap, processor.image_mean, processor.image_std)\n"
   ]
  },
  {
   "cell_type": "code",
   "execution_count": null,
   "metadata": {},
   "outputs": [],
   "source": [
    "print(heatmap.max(), heatmap.min()) "
   ]
  }
 ],
 "metadata": {
  "kernelspec": {
   "display_name": "transformer_explain",
   "language": "python",
   "name": "python3"
  },
  "language_info": {
   "codemirror_mode": {
    "name": "ipython",
    "version": 3
   },
   "file_extension": ".py",
   "mimetype": "text/x-python",
   "name": "python",
   "nbconvert_exporter": "python",
   "pygments_lexer": "ipython3",
   "version": "3.12.5"
  }
 },
 "nbformat": 4,
 "nbformat_minor": 2
}
