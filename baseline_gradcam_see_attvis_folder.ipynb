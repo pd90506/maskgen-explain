{
 "cells": [
  {
   "cell_type": "code",
   "execution_count": 1,
   "metadata": {},
   "outputs": [],
   "source": [
    "from transformers import ViTImageProcessor, ViTForImageClassification, ViTModel, ViTConfig\n",
    "from maskgen.utils import get_preprocess, collate_fn, load_imagenet\n",
    "# from maskgen.utils.img_utils import plot_overlap_np\n",
    "from torch.utils.data import DataLoader\n",
    "import torch\n",
    "import json\n",
    "import os\n",
    "from tqdm import tqdm\n",
    "import numpy as np\n",
    "from typing import Dict, Any\n",
    "\n",
    "config = {\n",
    "        \"pretrained_name\": \"google/vit-base-patch16-224\",\n",
    "        \"results_path\": \"/scratch365/dpan/new_results/gradcam\",\n",
    "        \"max_samples\": 100,\n",
    "        \"dataset_split\": \"tiny\",\n",
    "        \"num_samples\": 1000,\n",
    "        \"batch_size\":1,\n",
    "}"
   ]
  },
  {
   "cell_type": "code",
   "execution_count": 2,
   "metadata": {},
   "outputs": [
    {
     "ename": "ModuleNotFoundError",
     "evalue": "No module named 'baselines'",
     "output_type": "error",
     "traceback": [
      "\u001b[0;31m---------------------------------------------------------------------------\u001b[0m",
      "\u001b[0;31mModuleNotFoundError\u001b[0m                       Traceback (most recent call last)",
      "Cell \u001b[0;32mIn[2], line 1\u001b[0m\n\u001b[0;32m----> 1\u001b[0m \u001b[38;5;28;01mfrom\u001b[39;00m \u001b[38;5;21;01mattvis\u001b[39;00m\u001b[38;5;21;01m.\u001b[39;00m\u001b[38;5;21;01mbaselines\u001b[39;00m\u001b[38;5;21;01m.\u001b[39;00m\u001b[38;5;21;01mViT\u001b[39;00m\u001b[38;5;21;01m.\u001b[39;00m\u001b[38;5;21;01mViT_new\u001b[39;00m \u001b[38;5;28;01mimport\u001b[39;00m vit_base_patch16_224 \u001b[38;5;28;01mas\u001b[39;00m vit_LRP\n\u001b[1;32m      2\u001b[0m \u001b[38;5;28;01mfrom\u001b[39;00m \u001b[38;5;21;01mattvis\u001b[39;00m\u001b[38;5;21;01m.\u001b[39;00m\u001b[38;5;21;01mbaselines\u001b[39;00m\u001b[38;5;21;01m.\u001b[39;00m\u001b[38;5;21;01mViT\u001b[39;00m\u001b[38;5;21;01m.\u001b[39;00m\u001b[38;5;21;01mViT_explanation_generator\u001b[39;00m \u001b[38;5;28;01mimport\u001b[39;00m Baselines\n\u001b[1;32m      3\u001b[0m \u001b[38;5;28;01mfrom\u001b[39;00m \u001b[38;5;21;01mattvis\u001b[39;00m\u001b[38;5;21;01m.\u001b[39;00m\u001b[38;5;21;01msamples\u001b[39;00m\u001b[38;5;21;01m.\u001b[39;00m\u001b[38;5;21;01mCLS2IDX\u001b[39;00m \u001b[38;5;28;01mimport\u001b[39;00m CLS2IDX\n",
      "File \u001b[0;32m~/wd/maskgen-explain/attvis/baselines/ViT/ViT_new.py:9\u001b[0m\n\u001b[1;32m      6\u001b[0m \u001b[38;5;28;01mfrom\u001b[39;00m \u001b[38;5;21;01mfunctools\u001b[39;00m \u001b[38;5;28;01mimport\u001b[39;00m partial\n\u001b[1;32m      7\u001b[0m \u001b[38;5;28;01mfrom\u001b[39;00m \u001b[38;5;21;01meinops\u001b[39;00m \u001b[38;5;28;01mimport\u001b[39;00m rearrange\n\u001b[0;32m----> 9\u001b[0m \u001b[38;5;28;01mfrom\u001b[39;00m \u001b[38;5;21;01mbaselines\u001b[39;00m\u001b[38;5;21;01m.\u001b[39;00m\u001b[38;5;21;01mViT\u001b[39;00m\u001b[38;5;21;01m.\u001b[39;00m\u001b[38;5;21;01mhelpers\u001b[39;00m \u001b[38;5;28;01mimport\u001b[39;00m load_pretrained\n\u001b[1;32m     10\u001b[0m \u001b[38;5;28;01mfrom\u001b[39;00m \u001b[38;5;21;01mbaselines\u001b[39;00m\u001b[38;5;21;01m.\u001b[39;00m\u001b[38;5;21;01mViT\u001b[39;00m\u001b[38;5;21;01m.\u001b[39;00m\u001b[38;5;21;01mweight_init\u001b[39;00m \u001b[38;5;28;01mimport\u001b[39;00m trunc_normal_\n\u001b[1;32m     11\u001b[0m \u001b[38;5;28;01mfrom\u001b[39;00m \u001b[38;5;21;01mbaselines\u001b[39;00m\u001b[38;5;21;01m.\u001b[39;00m\u001b[38;5;21;01mViT\u001b[39;00m\u001b[38;5;21;01m.\u001b[39;00m\u001b[38;5;21;01mlayer_helpers\u001b[39;00m \u001b[38;5;28;01mimport\u001b[39;00m to_2tuple\n",
      "\u001b[0;31mModuleNotFoundError\u001b[0m: No module named 'baselines'"
     ]
    }
   ],
   "source": [
    "from attvis.baselines.ViT.ViT_new import vit_base_patch16_224 as vit_LRP\n",
    "from attvis.baselines.ViT.ViT_explanation_generator import Baselines\n",
    "from attvis.samples.CLS2IDX import CLS2IDX\n",
    "\n",
    "# initialize ViT pretrained\n",
    "model = vit_LRP(pretrained=True).cuda()\n",
    "model.eval()\n",
    "attribution_generator = Baselines(model)\n",
    "\n"
   ]
  },
  {
   "cell_type": "code",
   "execution_count": 4,
   "metadata": {},
   "outputs": [
    {
     "name": "stdout",
     "output_type": "stream",
     "text": [
      "Predicted class: 284\n",
      "Confidence: 0.964\n"
     ]
    }
   ],
   "source": [
    "from maskgen.baselines.gradshap import GradShapAnalyzer, downsample_attribution\n",
    "\n",
    "image = get_image_example(2)\n",
    "inputs = processor(images=image, return_tensors=\"pt\").to(device)\n",
    "pixel_values = inputs.pixel_values.to(device)\n",
    "\n",
    "# Initialize analyzer with wrapped model\n",
    "analyzer = GradShapAnalyzer(\n",
    "    model=target_model,\n",
    "    device=device\n",
    ")\n",
    "\n",
    "# Get attribution for single image\n",
    "attribution_map, pred_class, confidence = analyzer.get_attribution(pixel_values)\n",
    "\n",
    "print(f\"Predicted class: {pred_class}\")\n",
    "print(f\"Confidence: {confidence:.3f}\")"
   ]
  },
  {
   "cell_type": "code",
   "execution_count": 5,
   "metadata": {},
   "outputs": [
    {
     "name": "stderr",
     "output_type": "stream",
     "text": [
      "Repo card metadata block was not found. Setting CardData to empty.\n"
     ]
    }
   ],
   "source": [
    "from maskgen.utils.img_utils import plot_overlap_np\n",
    "from maskgen.utils.data_utils import get_imagenet_dataloader\n",
    "\n",
    "# get dataloader\n",
    "dataloader = get_imagenet_dataloader(split='tiny', \n",
    "                                    batch_size=config['batch_size'], \n",
    "                                    processor=processor, \n",
    "                                    shuffle=False,\n",
    "                                    num_samples=config['num_samples'])"
   ]
  },
  {
   "cell_type": "code",
   "execution_count": 6,
   "metadata": {},
   "outputs": [
    {
     "name": "stderr",
     "output_type": "stream",
     "text": [
      "Processing batches: 100%|██████████| 1000/1000 [03:31<00:00,  4.73it/s]\n"
     ]
    }
   ],
   "source": [
    "all_inputs = []\n",
    "all_heatmaps = []\n",
    "\n",
    "for i, batch in tqdm(enumerate(dataloader), total=len(dataloader), desc=\"Processing batches\"):\n",
    "    pixel_values = batch['pixel_values'].to(device)\n",
    "    labels = batch['labels'].to(device)\n",
    "    attribution_map, pred_class, confidence = analyzer.get_attribution(pixel_values)\n",
    "    attribution_map = downsample_attribution(attribution_map, patch_size=16)\n",
    "    attribution_map = np.expand_dims(attribution_map, axis=0)\n",
    "\n",
    "    inputs_np = pixel_values.cpu().numpy()\n",
    "    heatmap_np = attribution_map\n",
    "    all_inputs.append(inputs_np)\n",
    "    all_heatmaps.append(heatmap_np)\n",
    "\n",
    "all_inputs = np.concatenate(all_inputs, axis=0)\n",
    "all_heatmaps = np.concatenate(all_heatmaps, axis=0)\n",
    "    "
   ]
  },
  {
   "cell_type": "code",
   "execution_count": 7,
   "metadata": {},
   "outputs": [],
   "source": [
    "from maskgen.utils.save_utils import save_pixel_heatmap_pairs\n",
    "\n",
    "save_path = config['results_path']\n",
    "if not os.path.exists(save_path):\n",
    "    os.makedirs(save_path)\n",
    "save_path = os.path.join(save_path, 'pixel_heatmap_pairs.npz')\n",
    "save_pixel_heatmap_pairs(all_inputs, all_heatmaps, save_path)"
   ]
  },
  {
   "cell_type": "code",
   "execution_count": null,
   "metadata": {},
   "outputs": [],
   "source": []
  }
 ],
 "metadata": {
  "kernelspec": {
   "display_name": "transformer_explain",
   "language": "python",
   "name": "python3"
  },
  "language_info": {
   "codemirror_mode": {
    "name": "ipython",
    "version": 3
   },
   "file_extension": ".py",
   "mimetype": "text/x-python",
   "name": "python",
   "nbconvert_exporter": "python",
   "pygments_lexer": "ipython3",
   "version": "3.12.5"
  }
 },
 "nbformat": 4,
 "nbformat_minor": 2
}
