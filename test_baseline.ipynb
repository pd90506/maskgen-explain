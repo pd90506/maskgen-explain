{
 "cells": [
  {
   "cell_type": "code",
   "execution_count": 1,
   "metadata": {},
   "outputs": [],
   "source": [
    "from transformers import ViTImageProcessor, ViTForImageClassification, ViTModel, ViTConfig\n",
    "from maskgen.utils import get_preprocess, collate_fn, load_imagenet\n",
    "# from maskgen.utils.img_utils import plot_overlap_np\n",
    "from torch.utils.data import DataLoader\n",
    "import torch\n",
    "import json\n",
    "import os\n",
    "from tqdm import tqdm\n",
    "import numpy as np\n",
    "from typing import Dict, Any\n",
    "\n",
    "def load_config(config_path: str) -> Dict[str, Any]:\n",
    "    \"\"\"Load configuration from JSON file.\"\"\"\n",
    "    with open(config_path, 'r') as f:\n",
    "        config = json.load(f)\n",
    "    \n",
    "    # Flatten config for easier access\n",
    "    flat_config = {}\n",
    "    flat_config.update(config['evaluation'])\n",
    "    flat_config.update(config['model'])\n",
    "    flat_config.update(config['dataset'])\n",
    "    \n",
    "    return flat_config"
   ]
  },
  {
   "cell_type": "code",
   "execution_count": 2,
   "metadata": {},
   "outputs": [
    {
     "name": "stdout",
     "output_type": "stream",
     "text": [
      "target model loaded\n"
     ]
    }
   ],
   "source": [
    "# Load configuration\n",
    "config = load_config('eval_config.json')\n",
    "\n",
    "# Create results directory if it doesn't exist\n",
    "if not os.path.exists(config['results_path']):\n",
    "    os.makedirs(config['results_path'])\n",
    "\n",
    "# Set device\n",
    "device = torch.device(\"cuda\" if torch.cuda.is_available() else \"cpu\")\n",
    "\n",
    "# Load models and processor\n",
    "pretrained_name = config['pretrained_name']\n",
    "vit_config = ViTConfig.from_pretrained(pretrained_name)\n",
    "processor = ViTImageProcessor.from_pretrained(pretrained_name)\n",
    "\n",
    "# Get image normalization parameters\n",
    "img_mean = processor.image_mean\n",
    "img_std = processor.image_std\n",
    "\n",
    "# Target model for explanation\n",
    "target_model = ViTForImageClassification.from_pretrained(pretrained_name)\n",
    "target_model.eval()\n",
    "target_model.to(device)\n",
    "print(\"target model loaded\")"
   ]
  },
  {
   "cell_type": "code",
   "execution_count": 3,
   "metadata": {},
   "outputs": [
    {
     "name": "stdout",
     "output_type": "stream",
     "text": [
      "Predicted class: Siamese cat, Siamese\n"
     ]
    }
   ],
   "source": [
    "from maskgen.utils.image_utils import get_image_example\n",
    "from maskgen.utils.img_utils import plot_overlap_np\n",
    "\n",
    "\n",
    "image = get_image_example(2)\n",
    "\n",
    "with torch.no_grad():\n",
    "    inputs = processor(images=image, return_tensors=\"pt\")\n",
    "    inputs.to(device)\n",
    "    img = inputs['pixel_values']\n",
    "    img = img.to(device)\n",
    "    predicted_class_idx = target_model(img).logits.argmax(-1).item()\n",
    "    secondary_class_idx = target_model(img).logits.argsort(descending=True)[0][1].item()\n",
    "\n",
    "label = predicted_class_idx\n",
    "# label = secondary_class_idx\n",
    "label = torch.tensor([label]).to(device)\n",
    "print(\"Predicted class:\", target_model.config.id2label[predicted_class_idx])"
   ]
  },
  {
   "cell_type": "code",
   "execution_count": null,
   "metadata": {},
   "outputs": [],
   "source": []
  }
 ],
 "metadata": {
  "kernelspec": {
   "display_name": "transformer_explain",
   "language": "python",
   "name": "python3"
  },
  "language_info": {
   "codemirror_mode": {
    "name": "ipython",
    "version": 3
   },
   "file_extension": ".py",
   "mimetype": "text/x-python",
   "name": "python",
   "nbconvert_exporter": "python",
   "pygments_lexer": "ipython3",
   "version": "3.12.5"
  }
 },
 "nbformat": 4,
 "nbformat_minor": 2
}
